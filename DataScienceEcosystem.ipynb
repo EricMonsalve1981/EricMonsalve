{
 "cells": [
  {
   "cell_type": "markdown",
   "metadata": {},
   "source": [
    "<center>\n",
    "    <img src=\"https://cf-courses-data.s3.us.cloud-object-storage.appdomain.cloud/IBMDeveloperSkillsNetwork-DS0105EN-SkillsNetwork/labs/Module2/images/SN_web_lightmode.png\" width=\"300\" alt=\"cognitiveclass.ai logo\">\n",
    "</center>\n"
   ]
  },
  {
   "cell_type": "markdown",
   "metadata": {},
   "source": [
    "#### Add your code below following the instructions given in the course\n"
   ]
  },
  {
   "cell_type": "markdown",
   "metadata": {},
   "source": [
    "# Herramientas y ecosistema de ciencia de datos"
   ]
  },
  {
   "cell_type": "markdown",
   "metadata": {},
   "source": [
    "En este cuaderno, se resumen las herramientas de ciencia de datos y el ecosistema."
   ]
  },
  {
   "cell_type": "markdown",
   "metadata": {},
   "source": [
    "Algunos de los lenguajes más populares que utilizan los científicos de datos son:\n",
    "\n",
    "1. **Python**  \n",
    "   Python es el lenguaje más popular en ciencia de datos. Ofrece bibliotecas como `pandas`, `NumPy`, `matplotlib` y `scikit-learn`, que permiten el análisis de datos, visualización y aprendizaje automático.\n",
    "\n",
    "2. **R**  \n",
    "   R es un lenguaje especializado en estadística y análisis de datos. Es ampliamente utilizado en la investigación académica y tiene potentes paquetes como `ggplot2` y `dplyr` para la visualización y manipulación de datos.\n",
    "\n",
    "3. **SQL**  \n",
    "   SQL (Structured Query Language) es esencial para trabajar con bases de datos. Permite extraer y manipular grandes volúmenes de datos directamente desde bases de datos relacionales como MySQL, PostgreSQL y SQLite.\n",
    "\n",
    "4. **Julia**  \n",
    "   Julia es un lenguaje de programación rápido y eficiente que se está haciendo cada vez más popular en la ciencia de datos, especialmente en el ámbito de los cálculos numéricos intensivos y aplicaciones de alto rendimiento.\n",
    "\n",
    "5. **Scala**  \n",
    "   Scala se utiliza junto con Apache Spark, un framework de procesamiento de grandes volúmenes de datos. Es conocido por ser altamente escalable y adecuado para el procesamiento distribuido de datos en grandes clústeres.\n",
    "\n",
    "6. **Java**  \n",
    "   Java es un lenguaje de programación ampliamente utilizado en aplicaciones empresariales y también en ciencia de datos, especialmente cuando se trabaja con sistemas distribuidos y grandes cantidades de datos.\n",
    "\n",
    "7. **MATLAB**  \n",
    "   MATLAB es comúnmente utilizado para análisis matemático, simulaciones y visualización de datos, especialmente en ámbitos académicos y de investigación técnica."
   ]
  },
  {
   "cell_type": "markdown",
   "metadata": {},
   "source": [
    "Algunas de las bibliotecas más utilizadas por los científicos de datos son:\n",
    "\n",
    "1. **Pandas**  \n",
    "   Pandas es una biblioteca poderosa para el análisis de datos y la manipulación de estructuras de datos en Python. Ofrece estructuras como DataFrame para trabajar con datos tabulares de manera eficiente.\n",
    "\n",
    "2. **NumPy**  \n",
    "   NumPy proporciona soporte para grandes arreglos y matrices multidimensionales, junto con una colección de funciones matemáticas de alto nivel para realizar cálculos con estos datos de manera rápida.\n",
    "\n",
    "3. **Matplotlib**  \n",
    "   Matplotlib es una biblioteca de visualización que permite crear gráficos estáticos, animados e interactivos en Python. Es muy útil para generar gráficos y visualizaciones de datos.\n",
    "\n",
    "4. **Scikit-learn**  \n",
    "   Scikit-learn es una biblioteca de aprendizaje automático que facilita la creación de modelos de clasificación, regresión y clustering. También incluye herramientas para el preprocesamiento de datos y la validación de modelos.\n",
    "\n",
    "5. **TensorFlow**  \n",
    "   TensorFlow es una biblioteca de código abierto desarrollada por Google para la creación de redes neuronales y aprendizaje profundo. Es ampliamente utilizada en el desarrollo de modelos de inteligencia artificial.\n",
    "\n",
    "6. **Seaborn**  \n",
    "   Seaborn es una biblioteca para la visualización de datos basada en Matplotlib. Proporciona una interfaz de alto nivel que facilita la creación de gráficos estadísticos atractivos y bien diseñados."
   ]
  },
  {
   "cell_type": "markdown",
   "metadata": {},
   "source": [
    "| Herramientas de ciencia de datos |\n",
    "|----------------------------------|\n",
    "| Jupyter Notebook                 |\n",
    "| RStudio                          |\n",
    "| Apache Zeppelin                  |"
   ]
  },
  {
   "cell_type": "markdown",
   "metadata": {},
   "source": [
    "### A continuación se muestran algunos ejemplos de evaluación de expresiones aritméticas en Python:\n",
    "\n",
    "1. **Suma**: `5 + 3 = 8`\n",
    "2. **Resta**: `10 - 2 = 8`\n",
    "3. **Multiplicación**: `4 * 6 = 24`\n",
    "4. **División**: `16 / 4 = 4`\n",
    "5. **Exponente**: `2 ** 3 = 8`\n",
    "6. **Módulo**: `10 % 3 = 1` (el resto de la división de 10 entre 3)\n",
    "7. **División entera**: `16 // 3 = 5` (división que devuelve solo la parte entera)\n",
    "8. **Paréntesis para prioridad de operaciones**: `(2 + 3) * 4 = 20`\n",
    "9. **Negación**: `-5 + 3 = -2`\n",
    "10. **Suma y Exponente**: `2 + 3 ** 2 = 11` (3 elevado a la 2 y luego sumado a 2)\n"
   ]
  },
  {
   "cell_type": "code",
   "execution_count": 3,
   "metadata": {},
   "outputs": [
    {
     "name": "stdout",
     "output_type": "stream",
     "text": [
      "17\n"
     ]
    }
   ],
   "source": [
    "# Esta es una expresión aritmética simple para multiplicar 3 por 4 y luego sumar 5\n",
    "resultado = (3 * 4) + 5\n",
    "print(resultado)"
   ]
  },
  {
   "cell_type": "code",
   "execution_count": 4,
   "metadata": {},
   "outputs": [
    {
     "name": "stdout",
     "output_type": "stream",
     "text": [
      "3.3333333333333335\n"
     ]
    }
   ],
   "source": [
    "# Esto convertirá 200 minutos en horas al dividir entre 60\n",
    "minutos = 200\n",
    "horas = minutos / 60\n",
    "print(horas)"
   ]
  },
  {
   "cell_type": "markdown",
   "metadata": {},
   "source": [
    "**Objetivos:**\n",
    "\n",
    "- Lista de lenguajes populares para la ciencia de datos\n",
    "- Ejemplos de expresiones aritméticas simples en Python\n",
    "- Herramientas y ecosistema de ciencia de datos\n",
    "- Conversión de unidades (minutos a horas) en Python\n",
    "- Uso de bibliotecas de código abierto en ciencia de datos"
   ]
  },
  {
   "cell_type": "markdown",
   "metadata": {},
   "source": [
    "## Autor\n",
    "\n",
    "Eric Monsalve Cuevas"
   ]
  }
 ],
 "metadata": {
  "kernelspec": {
   "display_name": "Python 3 (ipykernel)",
   "language": "python",
   "name": "python3"
  },
  "language_info": {
   "codemirror_mode": {
    "name": "ipython",
    "version": 3
   },
   "file_extension": ".py",
   "mimetype": "text/x-python",
   "name": "python",
   "nbconvert_exporter": "python",
   "pygments_lexer": "ipython3",
   "version": "3.11.9"
  }
 },
 "nbformat": 4,
 "nbformat_minor": 4
}
